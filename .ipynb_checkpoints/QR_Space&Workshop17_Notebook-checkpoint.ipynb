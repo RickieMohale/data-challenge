{
 "cells": [
  {
   "cell_type": "markdown",
   "id": "44971850",
   "metadata": {},
   "source": [
    "<div align=\"center\" style=\"width: 900px; font-size: 80%; text-align: center; margin: 0 auto\">\n",
    "<img src=\"./heading.png\"\n",
    "     alt=\"Barnicles on your ship :( \"\n",
    "     style=\"float: center; padding-bottom=0.5em\"\n",
    "     width=900px/>\n",
    "\n",
    "</div>"
   ]
  },
  {
   "cell_type": "markdown",
   "id": "bf7a5708",
   "metadata": {},
   "source": [
    "## 1) Introduction"
   ]
  },
  {
   "cell_type": "markdown",
   "id": "2676602e",
   "metadata": {},
   "source": [
    "### 1.1) Project Statement\n",
    "\n",
    "QR Space would like to gain insight on lower ground and third floor desk occupation of  workshop 17 office.\n",
    "\n",
    "Desk occupancy is monitered by the IoT occupancy sensor,the Infinity PIR1.The sensors measure movement over and output a signal based on whether or not motion was detected over a period.\n",
    "\n",
    "The sensors output is as follows -\n",
    "0 = no motion \n",
    "1 = motion detected \n",
    "3 = hearbeat signal ( a signal that is generated at regular intervals to indicate that sensor is working correctly and should be ignored)\n",
    "\n"
   ]
  },
  {
   "cell_type": "markdown",
   "id": "a3d847a3",
   "metadata": {},
   "source": [
    "### 1.2) Objectives\n",
    "- To create three insightful graphs from the data that could help a decision maker of the property.\n",
    "- Build a dasboard for data visualisation."
   ]
  },
  {
   "cell_type": "markdown",
   "id": "33cf5e7d",
   "metadata": {},
   "source": [
    "## 2) Loading Libraries"
   ]
  },
  {
   "cell_type": "code",
   "execution_count": 2,
   "id": "b317e586",
   "metadata": {},
   "outputs": [],
   "source": [
    "import numpy as np\n",
    "import pandas as pd\n",
    "\n"
   ]
  },
  {
   "cell_type": "markdown",
   "id": "bd71bd61",
   "metadata": {},
   "source": [
    "## 3) Loading CSV Datasets"
   ]
  },
  {
   "cell_type": "code",
   "execution_count": 3,
   "id": "49889a8f",
   "metadata": {},
   "outputs": [],
   "source": [
    "root_path = ''\n",
    "LG_floor_df= pd.read_csv(root_path + 'September 2021 - Lower Ground Floor.csv')\n",
    "Third_floor_df= pd.read_csv(root_path + 'September 2021 - Third Floor.csv')"
   ]
  },
  {
   "cell_type": "markdown",
   "id": "ee0cf078",
   "metadata": {},
   "source": [
    "## 4 ) Explore Data Analyses"
   ]
  },
  {
   "cell_type": "markdown",
   "id": "83032232",
   "metadata": {},
   "source": [
    "### 4.1 ) Dataframe Overview"
   ]
  },
  {
   "cell_type": "code",
   "execution_count": 4,
   "id": "69aa70c5",
   "metadata": {
    "scrolled": false
   },
   "outputs": [
    {
     "data": {
      "text/html": [
       "<div>\n",
       "<style scoped>\n",
       "    .dataframe tbody tr th:only-of-type {\n",
       "        vertical-align: middle;\n",
       "    }\n",
       "\n",
       "    .dataframe tbody tr th {\n",
       "        vertical-align: top;\n",
       "    }\n",
       "\n",
       "    .dataframe thead th {\n",
       "        text-align: right;\n",
       "    }\n",
       "</style>\n",
       "<table border=\"1\" class=\"dataframe\">\n",
       "  <thead>\n",
       "    <tr style=\"text-align: right;\">\n",
       "      <th></th>\n",
       "      <th>DateTime</th>\n",
       "      <th>Data</th>\n",
       "      <th>Reading</th>\n",
       "    </tr>\n",
       "  </thead>\n",
       "  <tbody>\n",
       "    <tr>\n",
       "      <th>0</th>\n",
       "      <td>2021/09/01 8:58:30 PM</td>\n",
       "      <td>0</td>\n",
       "      <td>No Event</td>\n",
       "    </tr>\n",
       "    <tr>\n",
       "      <th>1</th>\n",
       "      <td>2021/09/01 8:45:54 PM</td>\n",
       "      <td>1</td>\n",
       "      <td>NaN</td>\n",
       "    </tr>\n",
       "    <tr>\n",
       "      <th>2</th>\n",
       "      <td>2021/09/01 8:12:23 PM</td>\n",
       "      <td>0</td>\n",
       "      <td>No Event</td>\n",
       "    </tr>\n",
       "    <tr>\n",
       "      <th>3</th>\n",
       "      <td>2021/09/01 7:59:30 PM</td>\n",
       "      <td>1</td>\n",
       "      <td>NaN</td>\n",
       "    </tr>\n",
       "    <tr>\n",
       "      <th>4</th>\n",
       "      <td>2021/09/01 5:18:07 PM</td>\n",
       "      <td>0</td>\n",
       "      <td>No Event</td>\n",
       "    </tr>\n",
       "  </tbody>\n",
       "</table>\n",
       "</div>"
      ],
      "text/plain": [
       "                DateTime  Data   Reading\n",
       "0  2021/09/01 8:58:30 PM     0  No Event\n",
       "1  2021/09/01 8:45:54 PM     1       NaN\n",
       "2  2021/09/01 8:12:23 PM     0  No Event\n",
       "3  2021/09/01 7:59:30 PM     1       NaN\n",
       "4  2021/09/01 5:18:07 PM     0  No Event"
      ]
     },
     "execution_count": 4,
     "metadata": {},
     "output_type": "execute_result"
    }
   ],
   "source": [
    "LG_floor_df.head()"
   ]
  },
  {
   "cell_type": "code",
   "execution_count": 5,
   "id": "be2b1fd8",
   "metadata": {},
   "outputs": [
    {
     "data": {
      "text/html": [
       "<div>\n",
       "<style scoped>\n",
       "    .dataframe tbody tr th:only-of-type {\n",
       "        vertical-align: middle;\n",
       "    }\n",
       "\n",
       "    .dataframe tbody tr th {\n",
       "        vertical-align: top;\n",
       "    }\n",
       "\n",
       "    .dataframe thead th {\n",
       "        text-align: right;\n",
       "    }\n",
       "</style>\n",
       "<table border=\"1\" class=\"dataframe\">\n",
       "  <thead>\n",
       "    <tr style=\"text-align: right;\">\n",
       "      <th></th>\n",
       "      <th>DateTime</th>\n",
       "      <th>Data</th>\n",
       "      <th>Reading</th>\n",
       "    </tr>\n",
       "  </thead>\n",
       "  <tbody>\n",
       "    <tr>\n",
       "      <th>0</th>\n",
       "      <td>2021/09/01 5:40:08 PM</td>\n",
       "      <td>0</td>\n",
       "      <td>No Event</td>\n",
       "    </tr>\n",
       "    <tr>\n",
       "      <th>1</th>\n",
       "      <td>2021/09/01 5:28:22 PM</td>\n",
       "      <td>3</td>\n",
       "      <td>NaN</td>\n",
       "    </tr>\n",
       "    <tr>\n",
       "      <th>2</th>\n",
       "      <td>2021/09/01 5:27:28 PM</td>\n",
       "      <td>1</td>\n",
       "      <td>NaN</td>\n",
       "    </tr>\n",
       "    <tr>\n",
       "      <th>3</th>\n",
       "      <td>2021/09/01 5:21:59 PM</td>\n",
       "      <td>0</td>\n",
       "      <td>No Event</td>\n",
       "    </tr>\n",
       "    <tr>\n",
       "      <th>4</th>\n",
       "      <td>2021/09/01 5:09:38 PM</td>\n",
       "      <td>1</td>\n",
       "      <td>NaN</td>\n",
       "    </tr>\n",
       "  </tbody>\n",
       "</table>\n",
       "</div>"
      ],
      "text/plain": [
       "                DateTime  Data   Reading\n",
       "0  2021/09/01 5:40:08 PM     0  No Event\n",
       "1  2021/09/01 5:28:22 PM     3       NaN\n",
       "2  2021/09/01 5:27:28 PM     1       NaN\n",
       "3  2021/09/01 5:21:59 PM     0  No Event\n",
       "4  2021/09/01 5:09:38 PM     1       NaN"
      ]
     },
     "execution_count": 5,
     "metadata": {},
     "output_type": "execute_result"
    }
   ],
   "source": [
    "Third_floor_df.head()"
   ]
  },
  {
   "cell_type": "markdown",
   "id": "43865b86",
   "metadata": {},
   "source": [
    "* Both dataframe have three columns (features) named DateTime, Data and Reading .\n",
    "* The DateTime feature should be treated for better data visualisation (corrected below)."
   ]
  },
  {
   "cell_type": "code",
   "execution_count": 6,
   "id": "a08a2df4",
   "metadata": {},
   "outputs": [
    {
     "name": "stdout",
     "output_type": "stream",
     "text": [
      "Lower ground Data column has the following unique enitres  [0, 1, 3]\n",
      "Third floor Data column has the following unique enitres  [0, 3, 1]\n"
     ]
    }
   ],
   "source": [
    "Data_Unique_LG = list(LG_floor_df['Data'].unique())\n",
    "Data_Unique_3rd = list(Third_floor_df['Data'].unique())\n",
    "print(f'Lower ground Data column has the following unique enitres  {Data_Unique_LG}')\n",
    "print(f'Third floor Data column has the following unique enitres  {Data_Unique_3rd}')"
   ]
  },
  {
   "cell_type": "markdown",
   "id": "a21e8bb5",
   "metadata": {},
   "source": [
    "#### The three unique entries are the expected output from the sensor.\n",
    "  "
   ]
  },
  {
   "cell_type": "code",
   "execution_count": 7,
   "id": "fa83db62",
   "metadata": {},
   "outputs": [
    {
     "name": "stdout",
     "output_type": "stream",
     "text": [
      "Lower ground Reading column has the following unique enitres  ['No Event', nan]\n",
      "Third floor Reading column has the following unique enitres  ['No Event', nan]\n"
     ]
    }
   ],
   "source": [
    "Reading_Unique_LG = list(LG_floor_df['Reading'].unique())\n",
    "Reading_Unique_3rd = list(Third_floor_df['Reading'].unique())\n",
    "print(f'Lower ground Reading column has the following unique enitres  {Reading_Unique_LG}')\n",
    "print(f'Third floor Reading column has the following unique enitres  {Reading_Unique_3rd}')"
   ]
  },
  {
   "cell_type": "markdown",
   "id": "bcb27d16",
   "metadata": {},
   "source": [
    "* Both Reading coloumn only have ' No Event ' obsersations\n",
    "* Other observations are ' NaN ' ,this indicates empty slots\n",
    "* This is not as expected.The colomn should have ' No Event ' ,' Event ' and  ' Heartbeat ' corresponding the three unique entries in the Data column."
   ]
  },
  {
   "cell_type": "code",
   "execution_count": 8,
   "id": "d53deed0",
   "metadata": {
    "scrolled": true
   },
   "outputs": [
    {
     "name": "stdout",
     "output_type": "stream",
     "text": [
      "<class 'pandas.core.frame.DataFrame'>\n",
      "RangeIndex: 360 entries, 0 to 359\n",
      "Data columns (total 3 columns):\n",
      " #   Column    Non-Null Count  Dtype \n",
      "---  ------    --------------  ----- \n",
      " 0   DateTime  360 non-null    object\n",
      " 1   Data      360 non-null    int64 \n",
      " 2   Reading   166 non-null    object\n",
      "dtypes: int64(1), object(2)\n",
      "memory usage: 8.6+ KB\n"
     ]
    }
   ],
   "source": [
    "LG_floor_df.info()"
   ]
  },
  {
   "cell_type": "code",
   "execution_count": 9,
   "id": "ba3197dd",
   "metadata": {},
   "outputs": [
    {
     "data": {
      "text/plain": [
       "DateTime      0\n",
       "Data          0\n",
       "Reading     194\n",
       "dtype: int64"
      ]
     },
     "execution_count": 9,
     "metadata": {},
     "output_type": "execute_result"
    }
   ],
   "source": [
    "LG_floor_df.isnull().sum()"
   ]
  },
  {
   "cell_type": "markdown",
   "id": "071caa95",
   "metadata": {},
   "source": [
    "The Lower Ground dataframe has :\n",
    "* 360 rows of entries\n",
    "* DateTime and Data column have 360 observations\n",
    "* Reading column only have 166 observations and the remaining 194 cells are empty\n",
    "    "
   ]
  },
  {
   "cell_type": "code",
   "execution_count": 10,
   "id": "28219e47",
   "metadata": {},
   "outputs": [
    {
     "name": "stdout",
     "output_type": "stream",
     "text": [
      "<class 'pandas.core.frame.DataFrame'>\n",
      "RangeIndex: 332 entries, 0 to 331\n",
      "Data columns (total 3 columns):\n",
      " #   Column    Non-Null Count  Dtype \n",
      "---  ------    --------------  ----- \n",
      " 0   DateTime  332 non-null    object\n",
      " 1   Data      332 non-null    int64 \n",
      " 2   Reading   150 non-null    object\n",
      "dtypes: int64(1), object(2)\n",
      "memory usage: 7.9+ KB\n"
     ]
    }
   ],
   "source": [
    "Third_floor_df.info()"
   ]
  },
  {
   "cell_type": "code",
   "execution_count": 11,
   "id": "5c01eef6",
   "metadata": {},
   "outputs": [
    {
     "data": {
      "text/plain": [
       "DateTime      0\n",
       "Data          0\n",
       "Reading     182\n",
       "dtype: int64"
      ]
     },
     "execution_count": 11,
     "metadata": {},
     "output_type": "execute_result"
    }
   ],
   "source": [
    "Third_floor_df.isnull().sum()"
   ]
  },
  {
   "cell_type": "markdown",
   "id": "6e9f2e4d",
   "metadata": {},
   "source": [
    "The Lower Ground dataframe has :\n",
    "* 332 rows of entries\n",
    "* DateTime and Data column have 332 observations\n",
    "* Reading coloumn only have 150 observations and the remaining 182 cells are empty\n",
    "    "
   ]
  },
  {
   "cell_type": "markdown",
   "id": "a54c23f3",
   "metadata": {},
   "source": [
    "## 4.2 )  DataFrame Treatment"
   ]
  },
  {
   "cell_type": "markdown",
   "id": "efb9764d",
   "metadata": {},
   "source": [
    "### 4.2.1 ) DateTime Feature treatment function"
   ]
  },
  {
   "cell_type": "markdown",
   "id": "b36b1072",
   "metadata": {},
   "source": [
    "The function below will be used to split DateTime and to fill missing values in the Reading column"
   ]
  },
  {
   "cell_type": "code",
   "execution_count": 12,
   "id": "50620539",
   "metadata": {},
   "outputs": [],
   "source": [
    "def dataframe_corrector(df):\n",
    "    \n",
    "    ## Creating new columns\n",
    "    df['Date']=''\n",
    "    df['Time']=''\n",
    "    df['AM/PM']=''\n",
    "        \n",
    "    for index,row in df.iterrows(): \n",
    "    \n",
    "        ## Splitting the DateTime column into Date ,Time and AM/PM       \n",
    "        date_time = df.iloc[index]['DateTime']\n",
    "        splited_datetime = date_time.split()\n",
    "        date_ = splited_datetime[0]\n",
    "        time_ = splited_datetime[1]\n",
    "        am_pm = splited_datetime[2]\n",
    "        \n",
    "        df.at[index,'Date']=date_\n",
    "        df.at[index,'Time']=time_\n",
    "        df.at[index,'AM/PM']=am_pm\n",
    "        \n",
    "        #### populating empty cell in the Reading column with values corrensponding Data column \n",
    "        \n",
    "        if str(df.iloc[index]['Reading'])== 'nan' and df.iloc[index]['Data'] == 0 :\n",
    "            df.at[index,'Reading'] ='No Event'\n",
    "            \n",
    "        if str(df.iloc[index]['Reading']) == 'nan'  and df.iloc[index]['Data'] == 1 :\n",
    "            df.at[index,'Reading'] ='Event'\n",
    "        if str(df.iloc[index]['Reading']) =='nan' and df.iloc[index]['Data'] == 3 :\n",
    "            df.at[index,'Reading'] ='Heartbeat'\n",
    "            \n",
    "        \n",
    "        \n",
    "        \n",
    "    return df"
   ]
  },
  {
   "cell_type": "markdown",
   "id": "3e1a2861",
   "metadata": {},
   "source": [
    "### 4.2.2) Applying the function to the dataframe"
   ]
  },
  {
   "cell_type": "code",
   "execution_count": 13,
   "id": "07df683d",
   "metadata": {},
   "outputs": [],
   "source": [
    "dataframe_corrector(LG_floor_df)\n",
    "LG_floor_df=LG_floor_df.drop(['DateTime'], axis=1)"
   ]
  },
  {
   "cell_type": "code",
   "execution_count": 14,
   "id": "b3f3d8a2",
   "metadata": {},
   "outputs": [],
   "source": [
    "dataframe_corrector(Third_floor_df)\n",
    "Third_floor_df=Third_floor_df.drop(['DateTime'], axis=1)"
   ]
  },
  {
   "cell_type": "code",
   "execution_count": 15,
   "id": "7f88cd88",
   "metadata": {},
   "outputs": [
    {
     "data": {
      "text/plain": [
       "Data       0\n",
       "Reading    0\n",
       "Date       0\n",
       "Time       0\n",
       "AM/PM      0\n",
       "dtype: int64"
      ]
     },
     "execution_count": 15,
     "metadata": {},
     "output_type": "execute_result"
    }
   ],
   "source": [
    "LG_floor_df.isnull().sum()"
   ]
  },
  {
   "cell_type": "code",
   "execution_count": 16,
   "id": "a438b37e",
   "metadata": {},
   "outputs": [
    {
     "data": {
      "text/plain": [
       "Data       0\n",
       "Reading    0\n",
       "Date       0\n",
       "Time       0\n",
       "AM/PM      0\n",
       "dtype: int64"
      ]
     },
     "execution_count": 16,
     "metadata": {},
     "output_type": "execute_result"
    }
   ],
   "source": [
    "Third_floor_df.isnull().sum()"
   ]
  },
  {
   "cell_type": "markdown",
   "id": "0a882cec",
   "metadata": {},
   "source": [
    "### Finally both dataframe have no empty cell"
   ]
  },
  {
   "cell_type": "markdown",
   "id": "b4260d39",
   "metadata": {},
   "source": [
    "## 5 ) Data Visualisation "
   ]
  },
  {
   "cell_type": "markdown",
   "id": "1244120c",
   "metadata": {},
   "source": [
    "For visualisation data column is redundant , because  the sensor output is represented by the Reading column,hence should be dropped\n"
   ]
  },
  {
   "cell_type": "code",
   "execution_count": 17,
   "id": "b626fc12",
   "metadata": {
    "scrolled": true
   },
   "outputs": [],
   "source": [
    "## Dropping Data column \n",
    "LG_floor_df = LG_floor_df.drop(['Data'], axis=1) \n",
    "Third_floor_df = Third_floor_df.drop(['Data'], axis=1)"
   ]
  },
  {
   "cell_type": "markdown",
   "id": "8c9eb4ab",
   "metadata": {},
   "source": [
    "The Heartbeat observation has no usefull insight and should be ignored"
   ]
  },
  {
   "cell_type": "code",
   "execution_count": 18,
   "id": "857d0496",
   "metadata": {},
   "outputs": [],
   "source": [
    "## Dropping Heartbeat Observation\n",
    "LG_floor_df = LG_floor_df[LG_floor_df['Reading'] != 'Heartbeat'] \n",
    "Third_floor_df = Third_floor_df[Third_floor_df['Reading'] != 'Heartbeat'] "
   ]
  },
  {
   "cell_type": "markdown",
   "id": "virgin-feature",
   "metadata": {},
   "source": [
    "# Detailed Data Visualisation is perfomed on Power BI  "
   ]
  }
 ],
 "metadata": {
  "kernelspec": {
   "display_name": "Python 3",
   "language": "python",
   "name": "python3"
  },
  "language_info": {
   "codemirror_mode": {
    "name": "ipython",
    "version": 3
   },
   "file_extension": ".py",
   "mimetype": "text/x-python",
   "name": "python",
   "nbconvert_exporter": "python",
   "pygments_lexer": "ipython3",
   "version": "3.6.13"
  }
 },
 "nbformat": 4,
 "nbformat_minor": 5
}
