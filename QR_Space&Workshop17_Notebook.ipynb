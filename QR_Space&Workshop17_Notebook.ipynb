{
 "cells": [
  {
   "cell_type": "markdown",
   "id": "713bc2d3",
   "metadata": {},
   "source": [
    "\n",
    "<div align=\"center\" style=\"width: 900px; font-size: 80%; text-align: center; margin: 0 auto\">\n",
    "<img src=\"./heading.png\"\n",
    "     alt=\"Barnicles on your ship :( \"\n",
    "     style=\"float: center; padding-bottom=0.5em\"\n",
    "     width=900px/>\n",
    "\n",
    "</div>"
   ]
  },
  {
   "cell_type": "markdown",
   "id": "1d2234bf",
   "metadata": {},
   "source": [
    "## Table Of  Content "
   ]
  },
  {
   "cell_type": "markdown",
   "id": "bca947e1",
   "metadata": {},
   "source": [
    "## Introduction"
   ]
  },
  {
   "cell_type": "markdown",
   "id": "c5388bcb",
   "metadata": {},
   "source": [
    "### Project Statement\n",
    "\n",
    "QR Space would like to gain insight on desk occupancy of the lower ground and third for of the workshop 17 office.\n",
    "\n",
    "Desk occupancy is monitered by the IoT occupancy sensor,the Infinity PIR1.\n",
    "\n",
    "The sensors measure movement over and output a signal based on whether or not motion was detected over a period.\n",
    "\n",
    "The sensors output is as follows -\n",
    "0 = no motion \n",
    "1 = motion detected \n",
    "3 = hearbeat signal ( a signal that is generated at regular intervals to indicate that sensor is working correctly and should be ignored)\n",
    "\n"
   ]
  },
  {
   "cell_type": "markdown",
   "id": "db5542db",
   "metadata": {},
   "source": [
    "### Objectives\n",
    "- To create three insightful graphs from the data that could help a decision maker of the property.\n",
    "- Build a dasboard for data visualisation."
   ]
  },
  {
   "cell_type": "markdown",
   "id": "a339bb68",
   "metadata": {},
   "source": [
    "## Loading Libraries"
   ]
  },
  {
   "cell_type": "code",
   "execution_count": 249,
   "id": "2168fe97",
   "metadata": {},
   "outputs": [],
   "source": [
    "import numpy as np\n",
    "import pandas as pd"
   ]
  },
  {
   "cell_type": "markdown",
   "id": "d08c4f8d",
   "metadata": {},
   "source": [
    "## Loading CSV Datasets"
   ]
  },
  {
   "cell_type": "code",
   "execution_count": 250,
   "id": "79409ab9",
   "metadata": {},
   "outputs": [],
   "source": [
    "root_path = ''\n",
    "LG_floor_df= pd.read_csv(root_path + 'September 2021 - Lower Ground Floor.csv')\n",
    "Third_floor_df= pd.read_csv(root_path + 'September 2021 - Third Floor.csv')"
   ]
  },
  {
   "cell_type": "markdown",
   "id": "e4138ab1",
   "metadata": {},
   "source": [
    "## Explore Data Analyses"
   ]
  },
  {
   "cell_type": "markdown",
   "id": "47e81ace",
   "metadata": {},
   "source": [
    "### Dataframe Overview"
   ]
  },
  {
   "cell_type": "code",
   "execution_count": 251,
   "id": "8b0619c5",
   "metadata": {
    "scrolled": false
   },
   "outputs": [
    {
     "data": {
      "text/html": [
       "<div>\n",
       "<style scoped>\n",
       "    .dataframe tbody tr th:only-of-type {\n",
       "        vertical-align: middle;\n",
       "    }\n",
       "\n",
       "    .dataframe tbody tr th {\n",
       "        vertical-align: top;\n",
       "    }\n",
       "\n",
       "    .dataframe thead th {\n",
       "        text-align: right;\n",
       "    }\n",
       "</style>\n",
       "<table border=\"1\" class=\"dataframe\">\n",
       "  <thead>\n",
       "    <tr style=\"text-align: right;\">\n",
       "      <th></th>\n",
       "      <th>DateTime</th>\n",
       "      <th>Data</th>\n",
       "      <th>Reading</th>\n",
       "    </tr>\n",
       "  </thead>\n",
       "  <tbody>\n",
       "    <tr>\n",
       "      <th>0</th>\n",
       "      <td>2021/09/01 8:58:30 PM</td>\n",
       "      <td>0</td>\n",
       "      <td>No Event</td>\n",
       "    </tr>\n",
       "    <tr>\n",
       "      <th>1</th>\n",
       "      <td>2021/09/01 8:45:54 PM</td>\n",
       "      <td>1</td>\n",
       "      <td>NaN</td>\n",
       "    </tr>\n",
       "    <tr>\n",
       "      <th>2</th>\n",
       "      <td>2021/09/01 8:12:23 PM</td>\n",
       "      <td>0</td>\n",
       "      <td>No Event</td>\n",
       "    </tr>\n",
       "    <tr>\n",
       "      <th>3</th>\n",
       "      <td>2021/09/01 7:59:30 PM</td>\n",
       "      <td>1</td>\n",
       "      <td>NaN</td>\n",
       "    </tr>\n",
       "    <tr>\n",
       "      <th>4</th>\n",
       "      <td>2021/09/01 5:18:07 PM</td>\n",
       "      <td>0</td>\n",
       "      <td>No Event</td>\n",
       "    </tr>\n",
       "  </tbody>\n",
       "</table>\n",
       "</div>"
      ],
      "text/plain": [
       "                DateTime  Data   Reading\n",
       "0  2021/09/01 8:58:30 PM     0  No Event\n",
       "1  2021/09/01 8:45:54 PM     1       NaN\n",
       "2  2021/09/01 8:12:23 PM     0  No Event\n",
       "3  2021/09/01 7:59:30 PM     1       NaN\n",
       "4  2021/09/01 5:18:07 PM     0  No Event"
      ]
     },
     "execution_count": 251,
     "metadata": {},
     "output_type": "execute_result"
    }
   ],
   "source": [
    "LG_floor_df.head()"
   ]
  },
  {
   "cell_type": "code",
   "execution_count": 252,
   "id": "1072d4aa",
   "metadata": {},
   "outputs": [
    {
     "data": {
      "text/html": [
       "<div>\n",
       "<style scoped>\n",
       "    .dataframe tbody tr th:only-of-type {\n",
       "        vertical-align: middle;\n",
       "    }\n",
       "\n",
       "    .dataframe tbody tr th {\n",
       "        vertical-align: top;\n",
       "    }\n",
       "\n",
       "    .dataframe thead th {\n",
       "        text-align: right;\n",
       "    }\n",
       "</style>\n",
       "<table border=\"1\" class=\"dataframe\">\n",
       "  <thead>\n",
       "    <tr style=\"text-align: right;\">\n",
       "      <th></th>\n",
       "      <th>DateTime</th>\n",
       "      <th>Data</th>\n",
       "      <th>Reading</th>\n",
       "    </tr>\n",
       "  </thead>\n",
       "  <tbody>\n",
       "    <tr>\n",
       "      <th>0</th>\n",
       "      <td>2021/09/01 5:40:08 PM</td>\n",
       "      <td>0</td>\n",
       "      <td>No Event</td>\n",
       "    </tr>\n",
       "    <tr>\n",
       "      <th>1</th>\n",
       "      <td>2021/09/01 5:28:22 PM</td>\n",
       "      <td>3</td>\n",
       "      <td>NaN</td>\n",
       "    </tr>\n",
       "    <tr>\n",
       "      <th>2</th>\n",
       "      <td>2021/09/01 5:27:28 PM</td>\n",
       "      <td>1</td>\n",
       "      <td>NaN</td>\n",
       "    </tr>\n",
       "    <tr>\n",
       "      <th>3</th>\n",
       "      <td>2021/09/01 5:21:59 PM</td>\n",
       "      <td>0</td>\n",
       "      <td>No Event</td>\n",
       "    </tr>\n",
       "    <tr>\n",
       "      <th>4</th>\n",
       "      <td>2021/09/01 5:09:38 PM</td>\n",
       "      <td>1</td>\n",
       "      <td>NaN</td>\n",
       "    </tr>\n",
       "  </tbody>\n",
       "</table>\n",
       "</div>"
      ],
      "text/plain": [
       "                DateTime  Data   Reading\n",
       "0  2021/09/01 5:40:08 PM     0  No Event\n",
       "1  2021/09/01 5:28:22 PM     3       NaN\n",
       "2  2021/09/01 5:27:28 PM     1       NaN\n",
       "3  2021/09/01 5:21:59 PM     0  No Event\n",
       "4  2021/09/01 5:09:38 PM     1       NaN"
      ]
     },
     "execution_count": 252,
     "metadata": {},
     "output_type": "execute_result"
    }
   ],
   "source": [
    "Third_floor_df.head()"
   ]
  },
  {
   "cell_type": "markdown",
   "id": "c23bd266",
   "metadata": {},
   "source": [
    "* Both dataframe have three columns (features) named DateTime, Data and Reading .\n",
    "* The DateTime feature should be treated for better data visualisation (corrected below)."
   ]
  },
  {
   "cell_type": "code",
   "execution_count": 253,
   "id": "b3e95174",
   "metadata": {},
   "outputs": [
    {
     "name": "stdout",
     "output_type": "stream",
     "text": [
      "Lower ground Data column has the following unique enitres  [0, 1, 3]\n",
      "Third floor Data column has the following unique enitres  [0, 3, 1]\n"
     ]
    }
   ],
   "source": [
    "Data_Unique_LG = list(LG_floor_df['Data'].unique())\n",
    "Data_Unique_3rd = list(Third_floor_df['Data'].unique())\n",
    "print(f'Lower ground Data column has the following unique enitres  {Data_Unique}')\n",
    "print(f'Third floor Data column has the following unique enitres  {Data_Unique_3rd}')"
   ]
  },
  {
   "cell_type": "markdown",
   "id": "d4a40093",
   "metadata": {},
   "source": [
    "#### The three unique entries are the expected output from the sensor.\n",
    "  "
   ]
  },
  {
   "cell_type": "code",
   "execution_count": 254,
   "id": "144fc131",
   "metadata": {},
   "outputs": [
    {
     "name": "stdout",
     "output_type": "stream",
     "text": [
      "Lower ground Reading column has the following unique enitres  ['No Event', nan]\n",
      "Third floor Reading column has the following unique enitres  ['No Event', nan]\n"
     ]
    }
   ],
   "source": [
    "Reading_Unique_LG = list(LG_floor_df['Reading'].unique())\n",
    "Reading_Unique_3rd = list(Third_floor_df['Reading'].unique())\n",
    "print(f'Lower ground Reading column has the following unique enitres  {Reading_Unique}')\n",
    "print(f'Third floor Reading column has the following unique enitres  {Reading_Unique}')"
   ]
  },
  {
   "cell_type": "markdown",
   "id": "a10f1ad9",
   "metadata": {},
   "source": [
    "* Both Reading coloumn only have ' No Event ' obsersations\n",
    "* Other observations are ' NaN ' ,this indicates empty slots\n",
    "* This is not as expected.The colomn should have ' No Event ' ,' Event ' and Heartbeat corresponding the three unique entries in the Data column."
   ]
  },
  {
   "cell_type": "code",
   "execution_count": 255,
   "id": "96aa6388",
   "metadata": {
    "scrolled": true
   },
   "outputs": [
    {
     "name": "stdout",
     "output_type": "stream",
     "text": [
      "<class 'pandas.core.frame.DataFrame'>\n",
      "RangeIndex: 360 entries, 0 to 359\n",
      "Data columns (total 3 columns):\n",
      " #   Column    Non-Null Count  Dtype \n",
      "---  ------    --------------  ----- \n",
      " 0   DateTime  360 non-null    object\n",
      " 1   Data      360 non-null    int64 \n",
      " 2   Reading   166 non-null    object\n",
      "dtypes: int64(1), object(2)\n",
      "memory usage: 8.6+ KB\n"
     ]
    }
   ],
   "source": [
    "LG_floor_df.info()"
   ]
  },
  {
   "cell_type": "code",
   "execution_count": 256,
   "id": "27498386",
   "metadata": {},
   "outputs": [
    {
     "data": {
      "text/plain": [
       "DateTime      0\n",
       "Data          0\n",
       "Reading     194\n",
       "dtype: int64"
      ]
     },
     "execution_count": 256,
     "metadata": {},
     "output_type": "execute_result"
    }
   ],
   "source": [
    "LG_floor_df.isnull().sum()"
   ]
  },
  {
   "cell_type": "markdown",
   "id": "0a32177e",
   "metadata": {},
   "source": [
    "The Lower Ground dataframe has :\n",
    "* 360 rows of entries\n",
    "* DateTime and Data column have 360 observations\n",
    "* Reading column only have 166 observations and the remaining 194 cells are empty\n",
    "    "
   ]
  },
  {
   "cell_type": "code",
   "execution_count": 257,
   "id": "1d9cb454",
   "metadata": {},
   "outputs": [
    {
     "name": "stdout",
     "output_type": "stream",
     "text": [
      "<class 'pandas.core.frame.DataFrame'>\n",
      "RangeIndex: 332 entries, 0 to 331\n",
      "Data columns (total 3 columns):\n",
      " #   Column    Non-Null Count  Dtype \n",
      "---  ------    --------------  ----- \n",
      " 0   DateTime  332 non-null    object\n",
      " 1   Data      332 non-null    int64 \n",
      " 2   Reading   150 non-null    object\n",
      "dtypes: int64(1), object(2)\n",
      "memory usage: 7.9+ KB\n"
     ]
    }
   ],
   "source": [
    "Third_floor_df.info()"
   ]
  },
  {
   "cell_type": "code",
   "execution_count": 258,
   "id": "be5b6905",
   "metadata": {},
   "outputs": [
    {
     "data": {
      "text/plain": [
       "DateTime      0\n",
       "Data          0\n",
       "Reading     182\n",
       "dtype: int64"
      ]
     },
     "execution_count": 258,
     "metadata": {},
     "output_type": "execute_result"
    }
   ],
   "source": [
    "Third_floor_df.isnull().sum()"
   ]
  },
  {
   "cell_type": "markdown",
   "id": "f7fcf740",
   "metadata": {},
   "source": [
    "The Lower Ground dataframe has :\n",
    "* 332 rows of entries\n",
    "* DateTime and Data column have 332 observations\n",
    "* Reading coloumn only have 150 observations and the remaining 182 cells are empty\n",
    "    "
   ]
  },
  {
   "cell_type": "markdown",
   "id": "706ac130",
   "metadata": {},
   "source": [
    "## DataFrame Treatment"
   ]
  },
  {
   "cell_type": "markdown",
   "id": "a00b1cfd",
   "metadata": {},
   "source": [
    "### DateTime Feature treatment function"
   ]
  },
  {
   "cell_type": "markdown",
   "id": "877f5e42",
   "metadata": {},
   "source": [
    "The function below will be used to split DateTime and to fill missing values in the Reading column"
   ]
  },
  {
   "cell_type": "code",
   "execution_count": 259,
   "id": "855cb949",
   "metadata": {},
   "outputs": [],
   "source": [
    "def dataframe_corrector(df):\n",
    "    \n",
    "    ## Creating new columns\n",
    "    df['Date']=''\n",
    "    df['Time']=''\n",
    "    df['AM/PM']=''\n",
    "        \n",
    "    for index,row in df.iterrows(): \n",
    "    \n",
    "        ## Splitting the DateTime column into Date ,Time and AM/PM       \n",
    "        date_time = df.iloc[index]['DateTime']\n",
    "        splited_datetime = date_time.split()\n",
    "        date_ = splited_datetime[0]\n",
    "        time_ = splited_datetime[1]\n",
    "        am_pm = splited_datetime[2]\n",
    "        \n",
    "        df.at[index,'Date']=date_\n",
    "        df.at[index,'Time']=time_\n",
    "        df.at[index,'AM/PM']=am_pm\n",
    "        \n",
    "        #### populating empty cell in the Reading column with values corrensponding Data column \n",
    "        \n",
    "        if str(df.iloc[index]['Reading'])== 'nan' and df.iloc[index]['Data'] == 0 :\n",
    "            df.at[index,'Reading'] ='No Event'\n",
    "            \n",
    "        if str(df.iloc[index]['Reading']) == 'nan'  and df.iloc[index]['Data'] == 1 :\n",
    "            df.at[index,'Reading'] ='Event'\n",
    "        if str(df.iloc[index]['Reading']) =='nan' and df.iloc[index]['Data'] == 3 :\n",
    "            df.at[index,'Reading'] ='Heartbeat'\n",
    "            \n",
    "        \n",
    "        \n",
    "        \n",
    "    return df"
   ]
  },
  {
   "cell_type": "markdown",
   "id": "154404bc",
   "metadata": {},
   "source": [
    "### Applying the function to the dataframe"
   ]
  },
  {
   "cell_type": "code",
   "execution_count": 260,
   "id": "1d455376",
   "metadata": {},
   "outputs": [],
   "source": [
    "dataframe_corrector(LG_floor_df)\n",
    "LG_floor_df=LG_floor_df.drop(['DateTime'], axis=1)"
   ]
  },
  {
   "cell_type": "code",
   "execution_count": 261,
   "id": "286b3f29",
   "metadata": {},
   "outputs": [],
   "source": [
    "dataframe_corrector(Third_floor_df)\n",
    "Third_floor_df=Third_floor_df.drop(['DateTime'], axis=1)"
   ]
  },
  {
   "cell_type": "code",
   "execution_count": 262,
   "id": "aaffe0a7",
   "metadata": {},
   "outputs": [
    {
     "data": {
      "text/plain": [
       "Data       0\n",
       "Reading    0\n",
       "Date       0\n",
       "Time       0\n",
       "AM/PM      0\n",
       "dtype: int64"
      ]
     },
     "execution_count": 262,
     "metadata": {},
     "output_type": "execute_result"
    }
   ],
   "source": [
    "LG_floor_df.isnull().sum()"
   ]
  },
  {
   "cell_type": "code",
   "execution_count": 263,
   "id": "f3433f56",
   "metadata": {},
   "outputs": [
    {
     "data": {
      "text/plain": [
       "Data       0\n",
       "Reading    0\n",
       "Date       0\n",
       "Time       0\n",
       "AM/PM      0\n",
       "dtype: int64"
      ]
     },
     "execution_count": 263,
     "metadata": {},
     "output_type": "execute_result"
    }
   ],
   "source": [
    "Third_floor_df.isnull().sum()"
   ]
  },
  {
   "cell_type": "markdown",
   "id": "9c728bb6",
   "metadata": {},
   "source": [
    "### Finally both dataframe have no empty cell"
   ]
  },
  {
   "cell_type": "markdown",
   "id": "cf27402b",
   "metadata": {},
   "source": [
    "## Data Visualisation "
   ]
  },
  {
   "cell_type": "markdown",
   "id": "40f7996a",
   "metadata": {},
   "source": [
    "For visualisation data column is redundant , because  the sensor output is represented by the Reading column,hence should be dropped\n"
   ]
  },
  {
   "cell_type": "code",
   "execution_count": 264,
   "id": "002ad378",
   "metadata": {
    "scrolled": true
   },
   "outputs": [],
   "source": [
    "## Dropping Data column \n",
    "LG_floor_df = LG_floor_df.drop(['Data'], axis=1) \n",
    "Third_floor_df = Third_floor_df.drop(['Data'], axis=1)"
   ]
  },
  {
   "cell_type": "markdown",
   "id": "4bfa5e42",
   "metadata": {},
   "source": [
    "The Heartbeat observation has no usefull insight and should be ignored"
   ]
  },
  {
   "cell_type": "code",
   "execution_count": 265,
   "id": "b89f4817",
   "metadata": {},
   "outputs": [],
   "source": [
    "## Dropping Heartbeat Observation\n",
    "LG_floor_df = LG_floor_df[LG_floor_df['Reading'] != 'Heartbeat'] \n",
    "Third_floor_df = Third_floor_df[Third_floor_df['Reading'] != 'Heartbeat'] "
   ]
  },
  {
   "cell_type": "code",
   "execution_count": 266,
   "id": "2951792d",
   "metadata": {},
   "outputs": [
    {
     "data": {
      "text/html": [
       "<div>\n",
       "<style scoped>\n",
       "    .dataframe tbody tr th:only-of-type {\n",
       "        vertical-align: middle;\n",
       "    }\n",
       "\n",
       "    .dataframe tbody tr th {\n",
       "        vertical-align: top;\n",
       "    }\n",
       "\n",
       "    .dataframe thead th {\n",
       "        text-align: right;\n",
       "    }\n",
       "</style>\n",
       "<table border=\"1\" class=\"dataframe\">\n",
       "  <thead>\n",
       "    <tr style=\"text-align: right;\">\n",
       "      <th></th>\n",
       "      <th>Reading</th>\n",
       "      <th>Date</th>\n",
       "      <th>Time</th>\n",
       "      <th>AM/PM</th>\n",
       "    </tr>\n",
       "  </thead>\n",
       "  <tbody>\n",
       "    <tr>\n",
       "      <th>0</th>\n",
       "      <td>No Event</td>\n",
       "      <td>2021/09/01</td>\n",
       "      <td>8:58:30</td>\n",
       "      <td>PM</td>\n",
       "    </tr>\n",
       "    <tr>\n",
       "      <th>1</th>\n",
       "      <td>Event</td>\n",
       "      <td>2021/09/01</td>\n",
       "      <td>8:45:54</td>\n",
       "      <td>PM</td>\n",
       "    </tr>\n",
       "    <tr>\n",
       "      <th>2</th>\n",
       "      <td>No Event</td>\n",
       "      <td>2021/09/01</td>\n",
       "      <td>8:12:23</td>\n",
       "      <td>PM</td>\n",
       "    </tr>\n",
       "    <tr>\n",
       "      <th>3</th>\n",
       "      <td>Event</td>\n",
       "      <td>2021/09/01</td>\n",
       "      <td>7:59:30</td>\n",
       "      <td>PM</td>\n",
       "    </tr>\n",
       "    <tr>\n",
       "      <th>4</th>\n",
       "      <td>No Event</td>\n",
       "      <td>2021/09/01</td>\n",
       "      <td>5:18:07</td>\n",
       "      <td>PM</td>\n",
       "    </tr>\n",
       "    <tr>\n",
       "      <th>5</th>\n",
       "      <td>Event</td>\n",
       "      <td>2021/09/01</td>\n",
       "      <td>5:05:56</td>\n",
       "      <td>PM</td>\n",
       "    </tr>\n",
       "    <tr>\n",
       "      <th>6</th>\n",
       "      <td>No Event</td>\n",
       "      <td>2021/09/01</td>\n",
       "      <td>2:06:50</td>\n",
       "      <td>PM</td>\n",
       "    </tr>\n",
       "    <tr>\n",
       "      <th>7</th>\n",
       "      <td>Event</td>\n",
       "      <td>2021/09/01</td>\n",
       "      <td>1:32:22</td>\n",
       "      <td>PM</td>\n",
       "    </tr>\n",
       "    <tr>\n",
       "      <th>8</th>\n",
       "      <td>No Event</td>\n",
       "      <td>2021/09/01</td>\n",
       "      <td>1:25:37</td>\n",
       "      <td>PM</td>\n",
       "    </tr>\n",
       "    <tr>\n",
       "      <th>9</th>\n",
       "      <td>Event</td>\n",
       "      <td>2021/09/01</td>\n",
       "      <td>12:25:15</td>\n",
       "      <td>PM</td>\n",
       "    </tr>\n",
       "    <tr>\n",
       "      <th>10</th>\n",
       "      <td>No Event</td>\n",
       "      <td>2021/09/01</td>\n",
       "      <td>11:33:27</td>\n",
       "      <td>AM</td>\n",
       "    </tr>\n",
       "    <tr>\n",
       "      <th>11</th>\n",
       "      <td>Event</td>\n",
       "      <td>2021/09/01</td>\n",
       "      <td>10:40:04</td>\n",
       "      <td>AM</td>\n",
       "    </tr>\n",
       "    <tr>\n",
       "      <th>12</th>\n",
       "      <td>Event</td>\n",
       "      <td>2021/09/01</td>\n",
       "      <td>10:08:54</td>\n",
       "      <td>AM</td>\n",
       "    </tr>\n",
       "    <tr>\n",
       "      <th>14</th>\n",
       "      <td>No Event</td>\n",
       "      <td>2021/09/01</td>\n",
       "      <td>2:43:04</td>\n",
       "      <td>AM</td>\n",
       "    </tr>\n",
       "    <tr>\n",
       "      <th>15</th>\n",
       "      <td>Event</td>\n",
       "      <td>2021/09/01</td>\n",
       "      <td>2:30:47</td>\n",
       "      <td>AM</td>\n",
       "    </tr>\n",
       "    <tr>\n",
       "      <th>16</th>\n",
       "      <td>No Event</td>\n",
       "      <td>2021/08/31</td>\n",
       "      <td>7:01:32</td>\n",
       "      <td>PM</td>\n",
       "    </tr>\n",
       "    <tr>\n",
       "      <th>17</th>\n",
       "      <td>Event</td>\n",
       "      <td>2021/08/31</td>\n",
       "      <td>6:49:12</td>\n",
       "      <td>PM</td>\n",
       "    </tr>\n",
       "    <tr>\n",
       "      <th>18</th>\n",
       "      <td>No Event</td>\n",
       "      <td>2021/08/31</td>\n",
       "      <td>5:01:33</td>\n",
       "      <td>PM</td>\n",
       "    </tr>\n",
       "    <tr>\n",
       "      <th>19</th>\n",
       "      <td>No Event</td>\n",
       "      <td>2021/08/31</td>\n",
       "      <td>4:39:26</td>\n",
       "      <td>PM</td>\n",
       "    </tr>\n",
       "    <tr>\n",
       "      <th>20</th>\n",
       "      <td>Event</td>\n",
       "      <td>2021/08/31</td>\n",
       "      <td>4:08:53</td>\n",
       "      <td>PM</td>\n",
       "    </tr>\n",
       "    <tr>\n",
       "      <th>21</th>\n",
       "      <td>No Event</td>\n",
       "      <td>2021/08/31</td>\n",
       "      <td>4:00:21</td>\n",
       "      <td>PM</td>\n",
       "    </tr>\n",
       "    <tr>\n",
       "      <th>22</th>\n",
       "      <td>Event</td>\n",
       "      <td>2021/08/31</td>\n",
       "      <td>3:46:34</td>\n",
       "      <td>PM</td>\n",
       "    </tr>\n",
       "    <tr>\n",
       "      <th>23</th>\n",
       "      <td>No Event</td>\n",
       "      <td>2021/08/31</td>\n",
       "      <td>3:40:10</td>\n",
       "      <td>PM</td>\n",
       "    </tr>\n",
       "    <tr>\n",
       "      <th>24</th>\n",
       "      <td>Event</td>\n",
       "      <td>2021/08/31</td>\n",
       "      <td>3:23:39</td>\n",
       "      <td>PM</td>\n",
       "    </tr>\n",
       "    <tr>\n",
       "      <th>25</th>\n",
       "      <td>No Event</td>\n",
       "      <td>2021/08/31</td>\n",
       "      <td>3:16:07</td>\n",
       "      <td>PM</td>\n",
       "    </tr>\n",
       "    <tr>\n",
       "      <th>26</th>\n",
       "      <td>Event</td>\n",
       "      <td>2021/08/31</td>\n",
       "      <td>2:40:33</td>\n",
       "      <td>PM</td>\n",
       "    </tr>\n",
       "    <tr>\n",
       "      <th>27</th>\n",
       "      <td>No Event</td>\n",
       "      <td>2021/08/31</td>\n",
       "      <td>2:25:00</td>\n",
       "      <td>PM</td>\n",
       "    </tr>\n",
       "    <tr>\n",
       "      <th>28</th>\n",
       "      <td>Event</td>\n",
       "      <td>2021/08/31</td>\n",
       "      <td>2:08:30</td>\n",
       "      <td>PM</td>\n",
       "    </tr>\n",
       "    <tr>\n",
       "      <th>29</th>\n",
       "      <td>No Event</td>\n",
       "      <td>2021/08/31</td>\n",
       "      <td>2:03:54</td>\n",
       "      <td>PM</td>\n",
       "    </tr>\n",
       "    <tr>\n",
       "      <th>30</th>\n",
       "      <td>Event</td>\n",
       "      <td>2021/08/31</td>\n",
       "      <td>1:25:17</td>\n",
       "      <td>PM</td>\n",
       "    </tr>\n",
       "    <tr>\n",
       "      <th>31</th>\n",
       "      <td>No Event</td>\n",
       "      <td>2021/08/31</td>\n",
       "      <td>12:59:52</td>\n",
       "      <td>PM</td>\n",
       "    </tr>\n",
       "    <tr>\n",
       "      <th>32</th>\n",
       "      <td>Event</td>\n",
       "      <td>2021/08/31</td>\n",
       "      <td>12:47:16</td>\n",
       "      <td>PM</td>\n",
       "    </tr>\n",
       "    <tr>\n",
       "      <th>33</th>\n",
       "      <td>No Event</td>\n",
       "      <td>2021/08/31</td>\n",
       "      <td>12:44:44</td>\n",
       "      <td>PM</td>\n",
       "    </tr>\n",
       "    <tr>\n",
       "      <th>34</th>\n",
       "      <td>No Event</td>\n",
       "      <td>2021/08/31</td>\n",
       "      <td>12:18:42</td>\n",
       "      <td>PM</td>\n",
       "    </tr>\n",
       "    <tr>\n",
       "      <th>35</th>\n",
       "      <td>Event</td>\n",
       "      <td>2021/08/31</td>\n",
       "      <td>12:03:13</td>\n",
       "      <td>PM</td>\n",
       "    </tr>\n",
       "    <tr>\n",
       "      <th>36</th>\n",
       "      <td>No Event</td>\n",
       "      <td>2021/08/31</td>\n",
       "      <td>12:01:36</td>\n",
       "      <td>PM</td>\n",
       "    </tr>\n",
       "    <tr>\n",
       "      <th>37</th>\n",
       "      <td>Event</td>\n",
       "      <td>2021/08/31</td>\n",
       "      <td>11:21:26</td>\n",
       "      <td>AM</td>\n",
       "    </tr>\n",
       "    <tr>\n",
       "      <th>38</th>\n",
       "      <td>No Event</td>\n",
       "      <td>2021/08/31</td>\n",
       "      <td>11:14:24</td>\n",
       "      <td>AM</td>\n",
       "    </tr>\n",
       "    <tr>\n",
       "      <th>39</th>\n",
       "      <td>Event</td>\n",
       "      <td>2021/08/31</td>\n",
       "      <td>11:01:32</td>\n",
       "      <td>AM</td>\n",
       "    </tr>\n",
       "    <tr>\n",
       "      <th>40</th>\n",
       "      <td>No Event</td>\n",
       "      <td>2021/08/31</td>\n",
       "      <td>11:00:17</td>\n",
       "      <td>AM</td>\n",
       "    </tr>\n",
       "    <tr>\n",
       "      <th>41</th>\n",
       "      <td>No Event</td>\n",
       "      <td>2021/08/31</td>\n",
       "      <td>11:00:17</td>\n",
       "      <td>AM</td>\n",
       "    </tr>\n",
       "    <tr>\n",
       "      <th>42</th>\n",
       "      <td>Event</td>\n",
       "      <td>2021/08/31</td>\n",
       "      <td>10:31:59</td>\n",
       "      <td>AM</td>\n",
       "    </tr>\n",
       "    <tr>\n",
       "      <th>43</th>\n",
       "      <td>No Event</td>\n",
       "      <td>2021/08/31</td>\n",
       "      <td>9:46:55</td>\n",
       "      <td>AM</td>\n",
       "    </tr>\n",
       "    <tr>\n",
       "      <th>44</th>\n",
       "      <td>Event</td>\n",
       "      <td>2021/08/31</td>\n",
       "      <td>9:34:07</td>\n",
       "      <td>AM</td>\n",
       "    </tr>\n",
       "    <tr>\n",
       "      <th>45</th>\n",
       "      <td>No Event</td>\n",
       "      <td>2021/08/31</td>\n",
       "      <td>9:00:52</td>\n",
       "      <td>AM</td>\n",
       "    </tr>\n",
       "    <tr>\n",
       "      <th>47</th>\n",
       "      <td>Event</td>\n",
       "      <td>2021/08/31</td>\n",
       "      <td>8:19:23</td>\n",
       "      <td>AM</td>\n",
       "    </tr>\n",
       "    <tr>\n",
       "      <th>48</th>\n",
       "      <td>No Event</td>\n",
       "      <td>2021/08/30</td>\n",
       "      <td>8:26:07</td>\n",
       "      <td>PM</td>\n",
       "    </tr>\n",
       "    <tr>\n",
       "      <th>49</th>\n",
       "      <td>No Event</td>\n",
       "      <td>2021/08/30</td>\n",
       "      <td>8:06:01</td>\n",
       "      <td>PM</td>\n",
       "    </tr>\n",
       "    <tr>\n",
       "      <th>50</th>\n",
       "      <td>Event</td>\n",
       "      <td>2021/08/30</td>\n",
       "      <td>7:53:43</td>\n",
       "      <td>PM</td>\n",
       "    </tr>\n",
       "    <tr>\n",
       "      <th>51</th>\n",
       "      <td>Event</td>\n",
       "      <td>2021/08/30</td>\n",
       "      <td>11:52:42</td>\n",
       "      <td>AM</td>\n",
       "    </tr>\n",
       "  </tbody>\n",
       "</table>\n",
       "</div>"
      ],
      "text/plain": [
       "     Reading        Date      Time AM/PM\n",
       "0   No Event  2021/09/01   8:58:30    PM\n",
       "1      Event  2021/09/01   8:45:54    PM\n",
       "2   No Event  2021/09/01   8:12:23    PM\n",
       "3      Event  2021/09/01   7:59:30    PM\n",
       "4   No Event  2021/09/01   5:18:07    PM\n",
       "5      Event  2021/09/01   5:05:56    PM\n",
       "6   No Event  2021/09/01   2:06:50    PM\n",
       "7      Event  2021/09/01   1:32:22    PM\n",
       "8   No Event  2021/09/01   1:25:37    PM\n",
       "9      Event  2021/09/01  12:25:15    PM\n",
       "10  No Event  2021/09/01  11:33:27    AM\n",
       "11     Event  2021/09/01  10:40:04    AM\n",
       "12     Event  2021/09/01  10:08:54    AM\n",
       "14  No Event  2021/09/01   2:43:04    AM\n",
       "15     Event  2021/09/01   2:30:47    AM\n",
       "16  No Event  2021/08/31   7:01:32    PM\n",
       "17     Event  2021/08/31   6:49:12    PM\n",
       "18  No Event  2021/08/31   5:01:33    PM\n",
       "19  No Event  2021/08/31   4:39:26    PM\n",
       "20     Event  2021/08/31   4:08:53    PM\n",
       "21  No Event  2021/08/31   4:00:21    PM\n",
       "22     Event  2021/08/31   3:46:34    PM\n",
       "23  No Event  2021/08/31   3:40:10    PM\n",
       "24     Event  2021/08/31   3:23:39    PM\n",
       "25  No Event  2021/08/31   3:16:07    PM\n",
       "26     Event  2021/08/31   2:40:33    PM\n",
       "27  No Event  2021/08/31   2:25:00    PM\n",
       "28     Event  2021/08/31   2:08:30    PM\n",
       "29  No Event  2021/08/31   2:03:54    PM\n",
       "30     Event  2021/08/31   1:25:17    PM\n",
       "31  No Event  2021/08/31  12:59:52    PM\n",
       "32     Event  2021/08/31  12:47:16    PM\n",
       "33  No Event  2021/08/31  12:44:44    PM\n",
       "34  No Event  2021/08/31  12:18:42    PM\n",
       "35     Event  2021/08/31  12:03:13    PM\n",
       "36  No Event  2021/08/31  12:01:36    PM\n",
       "37     Event  2021/08/31  11:21:26    AM\n",
       "38  No Event  2021/08/31  11:14:24    AM\n",
       "39     Event  2021/08/31  11:01:32    AM\n",
       "40  No Event  2021/08/31  11:00:17    AM\n",
       "41  No Event  2021/08/31  11:00:17    AM\n",
       "42     Event  2021/08/31  10:31:59    AM\n",
       "43  No Event  2021/08/31   9:46:55    AM\n",
       "44     Event  2021/08/31   9:34:07    AM\n",
       "45  No Event  2021/08/31   9:00:52    AM\n",
       "47     Event  2021/08/31   8:19:23    AM\n",
       "48  No Event  2021/08/30   8:26:07    PM\n",
       "49  No Event  2021/08/30   8:06:01    PM\n",
       "50     Event  2021/08/30   7:53:43    PM\n",
       "51     Event  2021/08/30  11:52:42    AM"
      ]
     },
     "execution_count": 266,
     "metadata": {},
     "output_type": "execute_result"
    }
   ],
   "source": [
    "LG_floor_df.head(50)"
   ]
  },
  {
   "cell_type": "code",
   "execution_count": null,
   "id": "f4aed873",
   "metadata": {},
   "outputs": [],
   "source": []
  }
 ],
 "metadata": {
  "kernelspec": {
   "display_name": "Python 3",
   "language": "python",
   "name": "python3"
  },
  "language_info": {
   "codemirror_mode": {
    "name": "ipython",
    "version": 3
   },
   "file_extension": ".py",
   "mimetype": "text/x-python",
   "name": "python",
   "nbconvert_exporter": "python",
   "pygments_lexer": "ipython3",
   "version": "3.6.13"
  }
 },
 "nbformat": 4,
 "nbformat_minor": 5
}
